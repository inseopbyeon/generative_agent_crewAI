{
 "cells": [
  {
   "cell_type": "code",
   "execution_count": 5,
   "metadata": {},
   "outputs": [],
   "source": [
    "from dotenv import load_dotenv\n",
    "load_dotenv()\n",
    "# Warning control\n",
    "import warnings\n",
    "warnings.filterwarnings('ignore')"
   ]
  },
  {
   "cell_type": "code",
   "execution_count": 6,
   "metadata": {},
   "outputs": [],
   "source": [
    "from crewai import Agent, Task, Crew, Process\n",
    "from crewai_tools import tools\n",
    "from langchain_openai import ChatOpenAI\n",
    "from langchain_google_genai import ChatGoogleGenerativeAI\n",
    "from openai import OpenAI\n",
    "import os, requests"
   ]
  },
  {
   "cell_type": "code",
   "execution_count": 8,
   "metadata": {},
   "outputs": [
    {
     "name": "stderr",
     "output_type": "stream",
     "text": [
      "I0000 00:00:1722946757.870825 1364763 check_gcp_environment_no_op.cc:29] ALTS: Platforms other than Linux and Windows are not supported\n",
      "I0000 00:00:1722946757.871593 1364763 check_gcp_environment_no_op.cc:29] ALTS: Platforms other than Linux and Windows are not supported\n"
     ]
    }
   ],
   "source": [
    "llm1= ChatGoogleGenerativeAI(model=\"gemini-1.5-flash\",\n",
    "                             google_api_key=os.getenv('GEMINI_API_KEY'))\n",
    "llm = ChatOpenAI(model= \"gpt-3.5-turbo\", \n",
    "                 api_key=os.getenv('GPT_API_KEY'))"
   ]
  },
  {
   "cell_type": "markdown",
   "metadata": {},
   "source": [
    "# ImageGenerate"
   ]
  },
  {
   "cell_type": "code",
   "execution_count": null,
   "metadata": {},
   "outputs": [],
   "source": [
    "def generateimage(chapter_content):\n",
    "    client = OpenAI(api_key=os.getenv('OPENAI_API_KEY'))\n",
    "    \n",
    "    response = client.images.generate(\n",
    "        model=\"dall-e-3\",\n",
    "        prompt=f\"이미지의 내용: {chapter_content}. Style: Illustration. Create an illustration incorporating a vivid palette with an emphasis on shades of azure and emerald, augmented by splashes of gold for contrast and visual interest. The style should evoke the intricate detail and whimsy of early 20th-century storybook illustrations, blending realism with fantastical elements to create a sense of wonder and enchantment. The composition should be rich in texture, with a soft, luminous lighting that enhances the magical atmosphere. Attention to the interplay of light and shadow will add depth and dimensionality, inviting the viewer to delve into the scene. DON'T include ANY text in this image. DON'T include colour palettes in this image.\",\n",
    "        size=\"1024x1024\",\n",
    "        quality=\"standard\",\n",
    "        n=1,\n",
    "    )\n",
    "\n",
    "    \n",
    "\n",
    "    image_url = response.data[0].url\n",
    "    filename = f\"image_{chapter_content[:10].replace(' ', '_')}.png\"\n",
    "    filepath = os.path.join(os.path.dirname(os.getcwd()), 'img', filename)\n",
    "\n",
    "    image_response = requests.get(image_url)\n",
    "    if image_response.status_code == 200:\n",
    "        with open(filepath, 'wb') as file:\n",
    "            file.write(image_response.content)\n",
    "    else:\n",
    "        print(\"Failed to download the image.\")\n",
    "        return \"\"\n",
    "\n",
    "    return filepath\n"
   ]
  },
  {
   "cell_type": "code",
   "execution_count": 5,
   "metadata": {},
   "outputs": [
    {
     "name": "stdout",
     "output_type": "stream",
     "text": [
      "여기가 오류입니다. 1\n"
     ]
    }
   ],
   "source": [
    "class ImageGeneratorAgent(Agent):\n",
    "    print(\"여기가 오류입니다. 1\")\n",
    "    def execute(self, chapter_content):\n",
    "        image_path = generateimage(chapter_content)\n",
    "        print(f\"이미지 저장 위치 : {image_path}\")\n",
    "        return image_path"
   ]
  },
  {
   "cell_type": "markdown",
   "metadata": {},
   "source": [
    "# Agent"
   ]
  },
  {
   "cell_type": "code",
   "execution_count": 6,
   "metadata": {},
   "outputs": [],
   "source": [
    "story_agent = Agent(\n",
    "    role='이야기 생성자',\n",
    "    goal='조선시대를 배경으로 흥미로운 상황을 생성합니다.',\n",
    "    memory=True,\n",
    "    backstory='당신은 조선시대의 유명한 이야기꾼입니다. 이야기를 흥미롭게 만들어냅니다.',\n",
    "    allow_delegation=False,\n",
    "    llm=llm1\n",
    ")\n",
    "\n",
    "# 선택지 에이전트: 상황에 맞는 4가지 선택지를 제공\n",
    "choice_agent = Agent(\n",
    "    role='선택지 제공자',\n",
    "    goal='주어진 상황에 맞는 4가지 선택지를 생성합니다.',\n",
    "    memory=True,\n",
    "    backstory='당신은 상황에 맞게 선택지를 제시하는 역할을 맡고 있습니다.',\n",
    "    allow_delegation=False,\n",
    "    llm=llm1\n",
    ")\n",
    "\n",
    "# 이미지 생성 에이전트 정의\n",
    "image_generator_agent = Agent(\n",
    "    role='이미지 생성기',\n",
    "    goal='이야기에 맞는 이미지를 생성합니다.',\n",
    "    memory=True,\n",
    "    backstory='당신은 이야기의 이미지를 생성하는 전문 AI입니다.',\n",
    "    allow_delegation=False,\n",
    "    llm=llm1\n",
    ")\n",
    "\n",
    "\n",
    "# summerize_agent = Agent(\n",
    "#     role='내용 요약자',\n",
    "#     goal='주어진 내용을 읽고 주요 내용을 요약하세요',\n",
    "#     memory=True,\n",
    "#     backstory='당신은 내용을 읽고 요약하는 역할을 맡고 있습니다.',\n",
    "#     allow_delegation=False,\n",
    "#     llm=llm1\n",
    "# )"
   ]
  },
  {
   "cell_type": "markdown",
   "metadata": {},
   "source": [
    "# Tasks"
   ]
  },
  {
   "cell_type": "code",
   "execution_count": 7,
   "metadata": {},
   "outputs": [],
   "source": [
    "# 이야기 생성 작업\n",
    "story_creation_task = Task(\n",
    "    description='조선시대를 배경으로 흥미로운 상황을 생성하세요.'\n",
    "                '만약 처음이라면 흥미로운 상황을 임의로 생성하세요.'\n",
    "                '처음이 아니라면 이전의 내용과 이어지도록 상황을 생성하세요'\n",
    "                '{previous_story}에 이어지는 새로운 상황을 생성하세요',\n",
    "    expected_output='200글자 내외의 흥미로운 상황이 생성됩니다.',\n",
    "    agent=story_agent\n",
    ")\n",
    "\n",
    "# 선택지 생성 작업\n",
    "choice_creation_task = Task(\n",
    "    description='이야기 상황에 맞는 4가지 선택지를 생성하세요. 각 선택지는 이야기와 관련이 있어야 합니다.'\n",
    "                \"{previous_story}와 이어지며, 마지막으로 제시된 상황에 맞는 선택지를 생성하세요\"\n",
    "                \"선택지는 1.~ 2.~ 3.~ 4.~ 순으로 제공되고 선택지마다 줄바꿈을 해서 출력하세요\",\n",
    "    expected_output='상황에 맞는 4가지 선택지가 생성됩니다.',\n",
    "    agent=choice_agent\n",
    ")\n",
    "\n",
    "#이미지 생성 작업\n",
    "task_image_generation = Task(\n",
    "    description='이야기 내용에 따라 이미지를 생성합니다.',\n",
    "    agent=image_generator_agent,\n",
    "    expected_output='생성된 이미지를 반환합니다.'\n",
    ")\n",
    "\n",
    "# story_summerization_task = Task(\n",
    "#     description= '{previous_story}를 읽고 내용을 요약하세요'\n",
    "#                  '글은 이야기, 선택지, 사용자 선택으로 나누어져있습니다. 이야기에 맞춰 사용자가 선택한 선택지를 참고하여 내용을 요약하세요'\n",
    "#                  '중요 내용을 판단하여 요약합니다.',\n",
    "#     expected_output='주어진 글을 읽고 내용을 요약하세요',\n",
    "#     agent=summerize_agent\n",
    "# )"
   ]
  },
  {
   "cell_type": "markdown",
   "metadata": {},
   "source": [
    "# Crew"
   ]
  },
  {
   "cell_type": "code",
   "execution_count": 8,
   "metadata": {},
   "outputs": [],
   "source": [
    "story_crew = Crew(\n",
    "    agents=[story_agent, \n",
    "            choice_agent, \n",
    "            #summerize_agent\n",
    "            ],\n",
    "    tasks=[story_creation_task, \n",
    "           choice_creation_task, \n",
    "           #story_summerization_task\n",
    "           ],\n",
    "    process=Process.sequential,\n",
    "    verbose=True\n",
    ")"
   ]
  },
  {
   "cell_type": "code",
   "execution_count": 11,
   "metadata": {},
   "outputs": [
    {
     "name": "stdout",
     "output_type": "stream",
     "text": [
      "\u001b[1m\u001b[95m [DEBUG]: == Working Agent: 이야기 생성자\u001b[00m\n",
      "\u001b[1m\u001b[95m [INFO]: == Starting Task: 조선시대를 배경으로 흥미로운 상황을 생성하세요.만약 처음이라면 흥미로운 상황을 임의로 생성하세요.처음이 아니라면 이전의 내용과 이어지도록 상황을 생성하세요## 상황 1:\n",
      "궁녀는 떨리는 손으로 쪽지를 왕에게 전달했다. 왕은 쪽지를 펼쳐 읽다가 갑자기 얼굴이 새파랗게 질렸다.  \"이게 대체 무슨 짓이냐!\" 왕의 목소리가 쩌렁쩌렁 울렸다. 쪽지에는 왕의 측근이 반란을 계획하고 있다는 내용이 적혀 있었기 때문이다. 왕은 즉시 친위대를 소집하여 반란을 진압하기 위한 작전을 세우기 시작했다.\n",
      "\n",
      "2. 측근에게 반란을 중단할 것을 설득하고, 진심으로 회개하면 용서해줄 것을 약속한다. 측근과의 관계 회복을 시도하고, 피비린내 나는 처벌을 피하고자 하는 선택이다.\n",
      "\n",
      "\n",
      "## 상황 2:\n",
      "왕의 측근은 뜻밖의 제안에 혼란스러운 표정을 지었다. 그는 왕의 분노에 떨며 몸을 움츠렸지만,  왕의 눈빛에서 진심 어린 설득을 읽어냈다.  \"하지만… 이미 많은 사람들이….\"  그는 말을 잇지 못했다.  왕은 측근의 어깨를 가볍게 두드리며  \"두려워 말게나.  나는 그대를 믿고 있네.  다만, 이제는 나와 함께 나라를 위해 힘을 합쳐야 하네.\"  라고 말했다.  측근은 왕의 말에 마음이 흔들렸다.  그는 과연 왕의 제안을 받아들여 반란을 중단하고,  왕과 함께 나라를 위해 힘을 합칠 것인가?  아니면,  이미 깊이 빠져든 반란의 길을 끝까지 걸어갈 것인가?  궁궐 안에는 긴장감이 감돌았고,  모두 측근의 결정을 지켜보며 가슴을 조였다.\n",
      "\n",
      "에 이어지는 새로운 상황을 생성하세요\u001b[00m\n",
      "\u001b[1m\u001b[92m [DEBUG]: == [이야기 생성자] Task output: 측근은\n",
      "\n",
      "\u001b[00m\n"
     ]
    },
    {
     "name": "stderr",
     "output_type": "stream",
     "text": [
      "I0000 00:00:1722946021.195322 1352918 fork_posix.cc:77] Other threads are currently calling into gRPC, skipping fork() handlers\n"
     ]
    },
    {
     "ename": "FileNotFoundError",
     "evalue": "[Errno 2] No such file or directory: '/Users/rohhail/Workspace/crew_ai/crewAI/img/image_측근은.png'",
     "output_type": "error",
     "traceback": [
      "\u001b[0;31m---------------------------------------------------------------------------\u001b[0m",
      "\u001b[0;31mFileNotFoundError\u001b[0m                         Traceback (most recent call last)",
      "Cell \u001b[0;32mIn[11], line 99\u001b[0m\n\u001b[1;32m     82\u001b[0m             file\u001b[38;5;241m.\u001b[39mwrite(line)\n\u001b[1;32m     86\u001b[0m \u001b[38;5;66;03m# #내용 요약 \u001b[39;00m\n\u001b[1;32m     87\u001b[0m \u001b[38;5;66;03m# def summerize_contents(crew, storyfile, logfile, summary):\u001b[39;00m\n\u001b[1;32m     88\u001b[0m \u001b[38;5;66;03m#         with open(storyfile, 'r', encoding=\"utf\") as file:\u001b[39;00m\n\u001b[0;32m   (...)\u001b[0m\n\u001b[1;32m     97\u001b[0m \n\u001b[1;32m     98\u001b[0m \u001b[38;5;66;03m# 크루 실행 및 결과 출력\u001b[39;00m\n\u001b[0;32m---> 99\u001b[0m \u001b[43mexecute_story\u001b[49m\u001b[43m(\u001b[49m\u001b[43mstory_crew\u001b[49m\u001b[43m)\u001b[49m\n",
      "Cell \u001b[0;32mIn[11], line 13\u001b[0m, in \u001b[0;36mexecute_story\u001b[0;34m(crew, logfile, storyfile)\u001b[0m\n\u001b[1;32m     10\u001b[0m story_result \u001b[38;5;241m=\u001b[39m story_creation(crew, storyfile,logfile,i)\n\u001b[1;32m     12\u001b[0m \u001b[38;5;66;03m# 이미지 생성 부분 result가 파일 위치\u001b[39;00m\n\u001b[0;32m---> 13\u001b[0m result \u001b[38;5;241m=\u001b[39m \u001b[43mgenerateimage\u001b[49m\u001b[43m(\u001b[49m\u001b[43mstory_result\u001b[49m\u001b[43m)\u001b[49m\n\u001b[1;32m     15\u001b[0m \u001b[38;5;66;03m# 선택지 생성 / 선택지 내용 저장\u001b[39;00m\n\u001b[1;32m     16\u001b[0m choices_creation \u001b[38;5;241m=\u001b[39m create_options(crew, storyfile, logfile)\n",
      "Cell \u001b[0;32mIn[4], line 20\u001b[0m, in \u001b[0;36mgenerateimage\u001b[0;34m(chapter_content)\u001b[0m\n\u001b[1;32m     18\u001b[0m image_response \u001b[38;5;241m=\u001b[39m requests\u001b[38;5;241m.\u001b[39mget(image_url)\n\u001b[1;32m     19\u001b[0m \u001b[38;5;28;01mif\u001b[39;00m image_response\u001b[38;5;241m.\u001b[39mstatus_code \u001b[38;5;241m==\u001b[39m \u001b[38;5;241m200\u001b[39m:\n\u001b[0;32m---> 20\u001b[0m     \u001b[38;5;28;01mwith\u001b[39;00m \u001b[38;5;28;43mopen\u001b[39;49m\u001b[43m(\u001b[49m\u001b[43mfilepath\u001b[49m\u001b[43m,\u001b[49m\u001b[43m \u001b[49m\u001b[38;5;124;43m'\u001b[39;49m\u001b[38;5;124;43mwb\u001b[39;49m\u001b[38;5;124;43m'\u001b[39;49m\u001b[43m)\u001b[49m \u001b[38;5;28;01mas\u001b[39;00m file:\n\u001b[1;32m     21\u001b[0m         file\u001b[38;5;241m.\u001b[39mwrite(image_response\u001b[38;5;241m.\u001b[39mcontent)\n\u001b[1;32m     22\u001b[0m \u001b[38;5;28;01melse\u001b[39;00m:\n",
      "File \u001b[0;32m/opt/homebrew/anaconda3/envs/crew_ai/lib/python3.12/site-packages/IPython/core/interactiveshell.py:324\u001b[0m, in \u001b[0;36m_modified_open\u001b[0;34m(file, *args, **kwargs)\u001b[0m\n\u001b[1;32m    317\u001b[0m \u001b[38;5;28;01mif\u001b[39;00m file \u001b[38;5;129;01min\u001b[39;00m {\u001b[38;5;241m0\u001b[39m, \u001b[38;5;241m1\u001b[39m, \u001b[38;5;241m2\u001b[39m}:\n\u001b[1;32m    318\u001b[0m     \u001b[38;5;28;01mraise\u001b[39;00m \u001b[38;5;167;01mValueError\u001b[39;00m(\n\u001b[1;32m    319\u001b[0m         \u001b[38;5;124mf\u001b[39m\u001b[38;5;124m\"\u001b[39m\u001b[38;5;124mIPython won\u001b[39m\u001b[38;5;124m'\u001b[39m\u001b[38;5;124mt let you open fd=\u001b[39m\u001b[38;5;132;01m{\u001b[39;00mfile\u001b[38;5;132;01m}\u001b[39;00m\u001b[38;5;124m by default \u001b[39m\u001b[38;5;124m\"\u001b[39m\n\u001b[1;32m    320\u001b[0m         \u001b[38;5;124m\"\u001b[39m\u001b[38;5;124mas it is likely to crash IPython. If you know what you are doing, \u001b[39m\u001b[38;5;124m\"\u001b[39m\n\u001b[1;32m    321\u001b[0m         \u001b[38;5;124m\"\u001b[39m\u001b[38;5;124myou can use builtins\u001b[39m\u001b[38;5;124m'\u001b[39m\u001b[38;5;124m open.\u001b[39m\u001b[38;5;124m\"\u001b[39m\n\u001b[1;32m    322\u001b[0m     )\n\u001b[0;32m--> 324\u001b[0m \u001b[38;5;28;01mreturn\u001b[39;00m \u001b[43mio_open\u001b[49m\u001b[43m(\u001b[49m\u001b[43mfile\u001b[49m\u001b[43m,\u001b[49m\u001b[43m \u001b[49m\u001b[38;5;241;43m*\u001b[39;49m\u001b[43margs\u001b[49m\u001b[43m,\u001b[49m\u001b[43m \u001b[49m\u001b[38;5;241;43m*\u001b[39;49m\u001b[38;5;241;43m*\u001b[39;49m\u001b[43mkwargs\u001b[49m\u001b[43m)\u001b[49m\n",
      "\u001b[0;31mFileNotFoundError\u001b[0m: [Errno 2] No such file or directory: '/Users/rohhail/Workspace/crew_ai/crewAI/img/image_측근은.png'"
     ]
    }
   ],
   "source": [
    "\n",
    "\n",
    "def execute_story(crew, \n",
    "                  logfile='log.md', \n",
    "                  storyfile = 'story.md',\n",
    "                  #summary = 'summary.md',\n",
    "                  #generated_story = 'generated_story.md'\n",
    "                  ):\n",
    "\n",
    "    for i in range(9):\n",
    "        # 요약을 읽기 / 이야기 생성 / 문장 저장  \n",
    "        story_result = story_creation(crew, storyfile,logfile,i)\n",
    "\n",
    "        # 이미지 생성 부분 result가 파일 위치\n",
    "        #result = generateimage(story_result)\n",
    "        \n",
    "        # 선택지 생성 / 선택지 내용 저장\n",
    "        choices_creation = create_options(crew, storyfile, logfile)\n",
    "\n",
    "        # 사용자 선택 / 선택한 내용 저장\n",
    "        user_selection(choices_creation, storyfile, logfile, i)\n",
    "        \n",
    "        # 내용 가져오기 / 내용 요약 / 요약 파일 누적 저장\n",
    "        # summerize_contents(crew, storyfile, logfile, summary)\n",
    "        \n",
    "\n",
    "        \n",
    "#이야기 생성 함수\n",
    "def story_creation(crew, storyfile,logfile,i):\n",
    "        #요약 파일 읽고 이야기 생성\n",
    "        with open(storyfile, 'r', encoding='utf-8') as file: \n",
    "            previous_story = file.read() \n",
    "\n",
    "        crew.tasks = [story_creation_task]\n",
    "        story_result = crew.kickoff(inputs={'previous_story': previous_story})\n",
    "        story_text = f\"## 상황 {i+1}:\\n{story_result}\\n\\n\"\n",
    "\n",
    "        # 생성된 이야기 log.md 및 story.md, generated_story.md 에저장\n",
    "        mode = 'w' if i == 0 else 'a' # 처음 생성된 문장의 경우 덮어쓰기 진행\n",
    "        with open(logfile, mode, encoding='utf-8') as file:\n",
    "            file.write(story_text)\n",
    "        with open(storyfile, mode, encoding='utf-8') as file:\n",
    "            file.write(story_text)\n",
    "        \n",
    "        return story_result\n",
    "\n",
    "#선택지 생성 함수\n",
    "def create_options(crew, storyfile, logfile):\n",
    "        #요약 파일 및 방금 생성된 이야기\n",
    "        with open(storyfile, 'r', encoding=\"utf\") as file:\n",
    "            previous_story = file.read()\n",
    "\n",
    "\n",
    "        crew.tasks = [choice_creation_task]\n",
    "        choices_creation = crew.kickoff(inputs={'previous_story': previous_story})\n",
    "        story_text = f\"{choices_creation}\\n\\n\\n\"\n",
    "\n",
    "        #로그에 저장\n",
    "        with open(logfile, 'a', encoding='utf-8') as file:\n",
    "            file.write(story_text)\n",
    "        \n",
    "        return choices_creation\n",
    "\n",
    "#사용자 선택 함수\n",
    "def user_selection(choices_creation, storyfile, logfile, i):\n",
    "        \n",
    "        choice = int(input(\"1부터 4까지의 숫자 중 하나를 선택하세요: \"))\n",
    "        story_text = f\"## 사용자 선택 : {choice}\\n\\n\\n\"\n",
    "        \n",
    "        ## 숫자 추출\n",
    "        choices_lines = choices_creation.split(\"\\n\")\n",
    "\n",
    "        line = \"\"\n",
    "        for i in choices_lines:\n",
    "            if i.startswith(f\"{choice}.\"):\n",
    "                line = f\"{i}\\n\\n\\n\"\n",
    "            \n",
    "        #로그에 사용자가 선택한 숫자 추가\n",
    "        with open(logfile, 'a', encoding='utf-8') as file:\n",
    "            file.write(story_text)\n",
    "        \n",
    "        #story.md 에 선택한 내용 추가\n",
    "        with open(storyfile, 'a', encoding='utf-8') as file:\n",
    "            file.write(line)\n",
    "\n",
    "\n",
    "\n",
    "# #내용 요약 \n",
    "# def summerize_contents(crew, storyfile, logfile, summary):\n",
    "#         with open(storyfile, 'r', encoding=\"utf\") as file:\n",
    "#             previous_story = file.read()\n",
    "\n",
    "#         crew.tasks = [story_summerization_task]\n",
    "#         summerize_story = crew.kickoff(inputs={'previous_story': previous_story})\n",
    "        \n",
    "#         # 요약 결과를 파일에 저장\n",
    "#         with open(summary, 'w', encoding='utf-8') as file:\n",
    "#              file.write(summerize_story) \n",
    "\n",
    "# 크루 실행 및 결과 출력\n",
    "execute_story(story_crew)"
   ]
  },
  {
   "cell_type": "code",
   "execution_count": null,
   "metadata": {},
   "outputs": [],
   "source": []
  }
 ],
 "metadata": {
  "kernelspec": {
   "display_name": "crew_ai",
   "language": "python",
   "name": "python3"
  },
  "language_info": {
   "codemirror_mode": {
    "name": "ipython",
    "version": 3
   },
   "file_extension": ".py",
   "mimetype": "text/x-python",
   "name": "python",
   "nbconvert_exporter": "python",
   "pygments_lexer": "ipython3",
   "version": "3.12.0"
  }
 },
 "nbformat": 4,
 "nbformat_minor": 2
}
